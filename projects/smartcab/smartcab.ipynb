{
 "cells": [
  {
   "cell_type": "markdown",
   "metadata": {},
   "source": [
    "# Machine Learning Engineer Nanodegree\n",
    "## Reinforcement Learning\n",
    "## Project: Train a Smartcab to Drive\n",
    "\n",
    "Welcome to the fourth project of the Machine Learning Engineer Nanodegree! In this notebook, template code has already been provided for you to aid in your analysis of the *Smartcab* and your implemented learning algorithm. You will not need to modify the included code beyond what is requested. There will be questions that you must answer which relate to the project and the visualizations provided in the notebook. Each section where you will answer a question is preceded by a **'Question X'** header. Carefully read each question and provide thorough answers in the following text boxes that begin with **'Answer:'**. Your project submission will be evaluated based on your answers to each of the questions and the implementation you provide in `agent.py`.  \n",
    "\n",
    ">**Note:** Code and Markdown cells can be executed using the **Shift + Enter** keyboard shortcut. In addition, Markdown cells can be edited by typically double-clicking the cell to enter edit mode."
   ]
  },
  {
   "cell_type": "markdown",
   "metadata": {},
   "source": [
    "-----\n",
    "\n",
    "## Getting Started\n",
    "In this project, you will work towards constructing an optimized Q-Learning driving agent that will navigate a *Smartcab* through its environment towards a goal. Since the *Smartcab* is expected to drive passengers from one location to another, the driving agent will be evaluated on two very important metrics: **Safety** and **Reliability**. A driving agent that gets the *Smartcab* to its destination while running red lights or narrowly avoiding accidents would be considered **unsafe**. Similarly, a driving agent that frequently fails to reach the destination in time would be considered **unreliable**. Maximizing the driving agent's **safety** and **reliability** would ensure that *Smartcabs* have a permanent place in the transportation industry.\n",
    "\n",
    "**Safety** and **Reliability** are measured using a letter-grade system as follows:\n",
    "\n",
    "| Grade \t| Safety \t| Reliability \t|\n",
    "|:-----:\t|:------:\t|:-----------:\t|\n",
    "|   A+  \t|  Agent commits no traffic violations,<br/>and always chooses the correct action. | Agent reaches the destination in time<br />for 100% of trips. |\n",
    "|   A   \t|  Agent commits few minor traffic violations,<br/>such as failing to move on a green light. | Agent reaches the destination on time<br />for at least 90% of trips. |\n",
    "|   B   \t| Agent commits frequent minor traffic violations,<br/>such as failing to move on a green light. | Agent reaches the destination on time<br />for at least 80% of trips. |\n",
    "|   C   \t|  Agent commits at least one major traffic violation,<br/> such as driving through a red light. | Agent reaches the destination on time<br />for at least 70% of trips. |\n",
    "|   D   \t| Agent causes at least one minor accident,<br/> such as turning left on green with oncoming traffic.       \t| Agent reaches the destination on time<br />for at least 60% of trips. |\n",
    "|   F   \t|  Agent causes at least one major accident,<br />such as driving through a red light with cross-traffic.      \t| Agent fails to reach the destination on time<br />for at least 60% of trips. |\n",
    "\n",
    "To assist evaluating these important metrics, you will need to load visualization code that will be used later on in the project. Run the code cell below to import this code which is required for your analysis."
   ]
  },
  {
   "cell_type": "code",
   "execution_count": 1,
   "metadata": {},
   "outputs": [],
   "source": [
    "# Import the visualization code\n",
    "import visuals as vs\n",
    "\n",
    "# Pretty display for notebooks\n",
    "%matplotlib inline"
   ]
  },
  {
   "cell_type": "markdown",
   "metadata": {},
   "source": [
    "### Understand the World\n",
    "Before starting to work on implementing your driving agent, it's necessary to first understand the world (environment) which the *Smartcab* and driving agent work in. One of the major components to building a self-learning agent is understanding the characteristics about the agent, which includes how the agent operates. To begin, simply run the `agent.py` agent code exactly how it is -- no need to make any additions whatsoever. Let the resulting simulation run for some time to see the various working components. Note that in the visual simulation (if enabled), the **white vehicle** is the *Smartcab*."
   ]
  },
  {
   "cell_type": "markdown",
   "metadata": {},
   "source": [
    "### Question 1\n",
    "In a few sentences, describe what you observe during the simulation when running the default `agent.py` agent code. Some things you could consider:\n",
    "- *Does the Smartcab move at all during the simulation?*\n",
    "- *What kind of rewards is the driving agent receiving?*\n",
    "- *How does the light changing color affect the rewards?*  \n",
    "\n",
    "**Hint:** From the `/smartcab/` top-level directory (where this notebook is located), run the command \n",
    "```bash\n",
    "'python smartcab/agent.py'\n",
    "```"
   ]
  },
  {
   "cell_type": "markdown",
   "metadata": {},
   "source": [
    "**Answer:**\n",
    "- *The Smartcab did not move at all during the Simulation.*\n",
    "\n",
    "\n",
    "- *The agent receives either a positive or negative reward depending on whether it took an appropriate action:*\n",
    "    - *negative (wrong)*\n",
    "    - *positive (correct)*\n",
    "    \n",
    "    \n",
    "- *The way light color affects the reward:* \n",
    "    - *red light - the agent receives a positive reward if it remained idel in front of red light.*\n",
    "    - *green light - the agent receives a negative reward if it remained idel in frot of green light*\n",
    "\n"
   ]
  },
  {
   "cell_type": "markdown",
   "metadata": {},
   "source": [
    "### Understand the Code\n",
    "In addition to understanding the world, it is also necessary to understand the code itself that governs how the world, simulation, and so on operate. Attempting to create a driving agent would be difficult without having at least explored the *\"hidden\"* devices that make everything work. In the `/smartcab/` top-level directory, there are two folders: `/logs/` (which will be used later) and `/smartcab/`. Open the `/smartcab/` folder and explore each Python file included, then answer the following question."
   ]
  },
  {
   "cell_type": "markdown",
   "metadata": {},
   "source": [
    "### Question 2\n",
    "- *In the *`agent.py`* Python file, choose three flags that can be set and explain how they change the simulation.*\n",
    "- *In the *`environment.py`* Python file, what Environment class function is called when an agent performs an action?*\n",
    "- *In the *`simulator.py`* Python file, what is the difference between the *`'render_text()'`* function and the *`'render()'`* function?*\n",
    "- *In the *`planner.py`* Python file, will the *`'next_waypoint()`* function consider the North-South or East-West direction first?*"
   ]
  },
  {
   "cell_type": "markdown",
   "metadata": {},
   "source": [
    "**Answer:**\n",
    "- *Three flags that can be set:*\n",
    "    -  *log_metrics - set the flag whether to record the trial and simulation results.*\n",
    "    -  *update_delay - set the continuous time ( between actions) default is set to 2.0.*\n",
    "    -  *display - flag to disable/enable the GUI if PyGame is enabled.* \n",
    "\n",
    "- *In the *`environment.py`* Python file, Environment's Act Function is called when the agent performs an action.*\n",
    "\n",
    "- *The *`'render_text()'`* is used to display non-GUI display of the simulation, The status is displayed in the terminal. *`'render()'`* is used for GUI display of the simulation, The status is displayed on PyGame window.*\n",
    "    \n",
    "- *In the *`planner.py`* Python file, will the *`'next_waypoint()`* function considers the East-West direction first.*\n"
   ]
  },
  {
   "cell_type": "markdown",
   "metadata": {},
   "source": [
    "-----\n",
    "## Implement a Basic Driving Agent\n",
    "\n",
    "The first step to creating an optimized Q-Learning driving agent is getting the agent to actually take valid actions. In this case, a valid action is one of `None`, (do nothing) `'left'` (turn left), `right'` (turn right), or `'forward'` (go forward). For your first implementation, navigate to the `'choose_action()'` agent function and make the driving agent randomly choose one of these actions. Note that you have access to several class variables that will help you write this functionality, such as `'self.learning'` and `'self.valid_actions'`. Once implemented, run the agent file and simulation briefly to confirm that your driving agent is taking a random action each time step."
   ]
  },
  {
   "cell_type": "markdown",
   "metadata": {},
   "source": [
    "### Basic Agent Simulation Results\n",
    "To obtain results from the initial simulation, you will need to adjust following flags:\n",
    "- `'enforce_deadline'` - Set this to `True` to force the driving agent to capture whether it reaches the destination in time.\n",
    "- `'update_delay'` - Set this to a small value (such as `0.01`) to reduce the time between steps in each trial.\n",
    "- `'log_metrics'` - Set this to `True` to log the simluation results as a `.csv` file in `/logs/`.\n",
    "- `'n_test'` - Set this to `'10'` to perform 10 testing trials.\n",
    "\n",
    "Optionally, you may disable to the visual simulation (which can make the trials go faster) by setting the `'display'` flag to `False`. Flags that have been set here should be returned to their default setting when debugging. It is important that you understand what each flag does and how it affects the simulation!\n",
    "\n",
    "Once you have successfully completed the initial simulation (there should have been 20 training trials and 10 testing trials), run the code cell below to visualize the results. Note that log files are overwritten when identical simulations are run, so be careful with what log file is being loaded!\n",
    "Run the agent.py file after setting the flags from projects/smartcab folder instead of projects/smartcab/smartcab.\n"
   ]
  },
  {
   "cell_type": "code",
   "execution_count": 5,
   "metadata": {},
   "outputs": [
    {
     "data": {
      "image/png": "[encoded data removed]",
      "text/plain": [
       "<matplotlib.figure.Figure at 0x109062d50>"
      ]
     },
     "metadata": {},
     "output_type": "display_data"
    }
   ],
   "source": [
    "# Load the 'sim_no-learning' log file from the initial simulation results\n",
    "vs.plot_trials('sim_no-learning.csv')"
   ]
  },
  {
   "cell_type": "markdown",
   "metadata": {},
   "source": [
    "### Question 3\n",
    "Using the visualization above that was produced from your initial simulation, provide an analysis and make several observations about the driving agent. Be sure that you are making at least one observation about each panel present in the visualization. Some things you could consider:\n",
    "- *How frequently is the driving agent making bad decisions? How many of those bad decisions cause accidents?*\n",
    "- *Given that the agent is driving randomly, does the rate of reliability make sense?*\n",
    "- *What kind of rewards is the agent receiving for its actions? Do the rewards suggest it has been penalized heavily?*\n",
    "- *As the number of trials increases, does the outcome of results change significantly?*\n",
    "- *Would this Smartcab be considered safe and/or reliable for its passengers? Why or why not?*"
   ]
  },
  {
   "cell_type": "markdown",
   "metadata": {},
   "source": [
    "**Answer:**\n",
    "- *As per 10 Trial Rolling relative frequency of bad actions*\n",
    "    - *The agent makes a bad decision with relative frequency of approximately around 41-45*\n",
    "    - *Out of those bad decisions, around 25% of the time, the agent ends up in an accident*\n",
    "      \n",
    "- *Since the agent is taking action randomly, the rate of reliability is extremely low.\n",
    "  So the low rate of reliability (10-20%) makes sense.*\n",
    "\n",
    "- *Based on the 10 Trial Rolling average reward per action*\n",
    "    *The agent has been consistently receiving a negative reward*\n",
    "             Minor violation - reward += -5\n",
    "             Major violation - reward += -10\n",
    "             Minor accident  - reward += -20\n",
    "             Major accident  - reward += -40\n",
    "    *The consistency in in receiving negative rewards indicateds that the agent has been heavily penalized*\n",
    "    \n",
    "- *As the number of trial increases, the relative frequency of bad actions barely changes (remains in between 33-43)\n",
    "  Moreover, the agent is not learning from its bad decisions, the average penalty remains negative per action.\n",
    "  So, increasing the number of trials does not bring any significant change.*\n",
    "  \n",
    "- *The Smartcab's safety and reliability rating are both F. It takes bad decisions adound 40% of the times, It is not  reliable in reaching the destination around 70% of the times. It cannot  be considered Safe or reliable.*"
   ]
  },
  {
   "cell_type": "markdown",
   "metadata": {},
   "source": [
    "-----\n",
    "## Inform the Driving Agent\n",
    "The second step to creating an optimized Q-learning driving agent is defining a set of states that the agent can occupy in the environment. Depending on the input, sensory data, and additional variables available to the driving agent, a set of states can be defined for the agent so that it can eventually *learn* what action it should take when occupying a state. The condition of `'if state then action'` for each state is called a **policy**, and is ultimately what the driving agent is expected to learn. Without defining states, the driving agent would never understand which action is most optimal -- or even what environmental variables and conditions it cares about!"
   ]
  },
  {
   "cell_type": "markdown",
   "metadata": {},
   "source": [
    "### Identify States\n",
    "Inspecting the `'build_state()'` agent function shows that the driving agent is given the following data from the environment:\n",
    "- `'waypoint'`, which is the direction the *Smartcab* should drive leading to the destination, relative to the *Smartcab*'s heading.\n",
    "- `'inputs'`, which is the sensor data from the *Smartcab*. It includes \n",
    "  - `'light'`, the color of the light.\n",
    "  - `'left'`, the intended direction of travel for a vehicle to the *Smartcab*'s left. Returns `None` if no vehicle is present.\n",
    "  - `'right'`, the intended direction of travel for a vehicle to the *Smartcab*'s right. Returns `None` if no vehicle is present.\n",
    "  - `'oncoming'`, the intended direction of travel for a vehicle across the intersection from the *Smartcab*. Returns `None` if no vehicle is present.\n",
    "- `'deadline'`, which is the number of actions remaining for the *Smartcab* to reach the destination before running out of time."
   ]
  },
  {
   "cell_type": "markdown",
   "metadata": {},
   "source": [
    "### Question 4\n",
    "*Which features available to the agent are most relevant for learning both **safety** and **efficiency**? Why are these features appropriate for modeling the *Smartcab* in the environment? If you did not choose some features, why are those features* not *appropriate? Please note that whatever features you eventually choose for your agent's state, must be argued for here. That is: your code in agent.py should reflect the features chosen in this answer.\n",
    "*\n",
    "\n",
    "NOTE: You are not allowed to engineer new features for the smartcab. "
   ]
  },
  {
   "cell_type": "markdown",
   "metadata": {},
   "source": [
    "**Answer:**\n",
    "\n",
    "- *Features Choosen:*\n",
    "    - *'waypoint' - with each action we take we want to make sure the agent is moving optimally towards the destination.\n",
    "    For that to happen, we need waypoint as an input to determine our next optimal step towards the goal (one step ahead, one step left, one step right, none). This parameter helps in relibility.*\n",
    "    \n",
    "    - *'light' - We want to make sure to not get penalized by making wrong decisions. The agent might end up in an accident by not following the traffic rules. This parameter helps in Safely of the agent.*\n",
    "  \n",
    "    - *'left', oncoming -  From the other visual inputs, I'm considering left, and oncoming. These parameters are important for the safety of the agent. Using these parameter, the agent can consider the presence of others in an environment and take an appropriate action.*\n",
    "  \n",
    "- *Feature Not-choosen*:\n",
    "\n",
    "    - *'deadline' - At this stage, I'm worried more about the safety. I want the agent to learn by exploring I don't want to put an pressure of a deadline.*\n",
    "    - *'right' - I did not choose right, because this feature does not affect the agent in this environment.*"
   ]
  },
  {
   "cell_type": "markdown",
   "metadata": {},
   "source": [
    "### Define a State Space\n",
    "When defining a set of states that the agent can occupy, it is necessary to consider the *size* of the state space. That is to say, if you expect the driving agent to learn a **policy** for each state, you would need to have an optimal action for *every* state the agent can occupy. If the number of all possible states is very large, it might be the case that the driving agent never learns what to do in some states, which can lead to uninformed decisions. For example, consider a case where the following features are used to define the state of the *Smartcab*:\n",
    "\n",
    "`('is_raining', 'is_foggy', 'is_red_light', 'turn_left', 'no_traffic', 'previous_turn_left', 'time_of_day')`.\n",
    "\n",
    "How frequently would the agent occupy a state like `(False, True, True, True, False, False, '3AM')`? Without a near-infinite amount of time for training, it's doubtful the agent would ever learn the proper action!"
   ]
  },
  {
   "cell_type": "markdown",
   "metadata": {},
   "source": [
    "### Question 5\n",
    "*If a state is defined using the features you've selected from **Question 4**, what would be the size of the state space? Given what you know about the environment and how it is simulated, do you think the driving agent could learn a policy for each possible state within a reasonable number of training trials?*  \n",
    "**Hint:** Consider the *combinations* of features to calculate the total number of states!"
   ]
  },
  {
   "cell_type": "markdown",
   "metadata": {},
   "source": [
    "**Answer:**\n",
    "\n",
    "- *The parameters that we considered in question 4 was:*\n",
    "    - *'waypoint' - it can take 4 values ( Left, Right, Forward)*\n",
    "    - *'light' - it can take two values ( Red, Green)*\n",
    "    - *'left' - it can take 4 values (None, Left, Right, Forward)*\n",
    "    - *'oncoming' - it can take 4 values (None, Left, Right, Forward)*\n",
    " \n",
    " So, the total possible variations = 3*2*4*4 = 96\n",
    " \n",
    " I believe the size of the state is quite reasonable to learn a policy for each state within a reasonable number of training trials."
   ]
  },
  {
   "cell_type": "markdown",
   "metadata": {},
   "source": [
    "### Update the Driving Agent State\n",
    "For your second implementation, navigate to the `'build_state()'` agent function. With the justification you've provided in **Question 4**, you will now set the `'state'` variable to a tuple of all the features necessary for Q-Learning. Confirm your driving agent is updating its state by running the agent file and simulation briefly and note whether the state is displaying. If the visual simulation is used, confirm that the updated state corresponds with what is seen in the simulation.\n",
    "\n",
    "**Note:** Remember to reset simulation flags to their default setting when making this observation!"
   ]
  },
  {
   "cell_type": "markdown",
   "metadata": {},
   "source": [
    "-----\n",
    "## Implement a Q-Learning Driving Agent\n",
    "The third step to creating an optimized Q-Learning agent is to begin implementing the functionality of Q-Learning itself. The concept of Q-Learning is fairly straightforward: For every state the agent visits, create an entry in the Q-table for all state-action pairs available. Then, when the agent encounters a state and performs an action, update the Q-value associated with that state-action pair based on the reward received and the iterative update rule implemented. Of course, additional benefits come from Q-Learning, such that we can have the agent choose the *best* action for each state based on the Q-values of each state-action pair possible. For this project, you will be implementing a *decaying,* $\\epsilon$*-greedy* Q-learning algorithm with *no* discount factor. Follow the implementation instructions under each **TODO** in the agent functions.\n",
    "\n",
    "Note that the agent attribute `self.Q` is a dictionary: This is how the Q-table will be formed. Each state will be a key of the `self.Q` dictionary, and each value will then be another dictionary that holds the *action* and *Q-value*. Here is an example:\n",
    "\n",
    "```\n",
    "{ 'state-1': { \n",
    "    'action-1' : Qvalue-1,\n",
    "    'action-2' : Qvalue-2,\n",
    "     ...\n",
    "   },\n",
    "  'state-2': {\n",
    "    'action-1' : Qvalue-1,\n",
    "     ...\n",
    "   },\n",
    "   ...\n",
    "}\n",
    "```\n",
    "\n",
    "Furthermore, note that you are expected to use a *decaying* $\\epsilon$ *(exploration) factor*. Hence, as the number of trials increases, $\\epsilon$ should decrease towards 0. This is because the agent is expected to learn from its behavior and begin acting on its learned behavior. Additionally, The agent will be tested on what it has learned after $\\epsilon$ has passed a certain threshold (the default threshold is 0.05). For the initial Q-Learning implementation, you will be implementing a linear decaying function for $\\epsilon$."
   ]
  },
  {
   "cell_type": "markdown",
   "metadata": {},
   "source": [
    "### Q-Learning Simulation Results\n",
    "To obtain results from the initial Q-Learning implementation, you will need to adjust the following flags and setup:\n",
    "- `'enforce_deadline'` - Set this to `True` to force the driving agent to capture whether it reaches the destination in time.\n",
    "- `'update_delay'` - Set this to a small value (such as `0.01`) to reduce the time between steps in each trial.\n",
    "- `'log_metrics'` - Set this to `True` to log the simluation results as a `.csv` file and the Q-table as a `.txt` file in `/logs/`.\n",
    "- `'n_test'` - Set this to `'10'` to perform 10 testing trials.\n",
    "- `'learning'` - Set this to `'True'` to tell the driving agent to use your Q-Learning implementation.\n",
    "\n",
    "In addition, use the following decay function for $\\epsilon$:\n",
    "\n",
    "$$ \\epsilon_{t+1} = \\epsilon_{t} - 0.05, \\hspace{10px}\\textrm{for trial number } t$$\n",
    "\n",
    "If you have difficulty getting your implementation to work, try setting the `'verbose'` flag to `True` to help debug. Flags that have been set here should be returned to their default setting when debugging. It is important that you understand what each flag does and how it affects the simulation! \n",
    "\n",
    "Once you have successfully completed the initial Q-Learning simulation, run the code cell below to visualize the results. Note that log files are overwritten when identical simulations are run, so be careful with what log file is being loaded!"
   ]
  },
  {
   "cell_type": "code",
   "execution_count": null,
   "metadata": {
    "collapsed": true
   },
   "outputs": [],
   "source": [
    "# Load the 'sim_default-learning' file from the default Q-Learning simulation\n",
    "vs.plot_trials('sim_default-learning.csv')"
   ]
  },
  {
   "cell_type": "markdown",
   "metadata": {},
   "source": [
    "### Question 6\n",
    "Using the visualization above that was produced from your default Q-Learning simulation, provide an analysis and make observations about the driving agent like in **Question 3**. Note that the simulation should have also produced the Q-table in a text file which can help you make observations about the agent's learning. Some additional things you could consider:  \n",
    "- *Are there any observations that are similar between the basic driving agent and the default Q-Learning agent?*\n",
    "- *Approximately how many training trials did the driving agent require before testing? Does that number make sense given the epsilon-tolerance?*\n",
    "- *Is the decaying function you implemented for $\\epsilon$ (the exploration factor) accurately represented in the parameters panel?*\n",
    "- *As the number of training trials increased, did the number of bad actions decrease? Did the average reward increase?*\n",
    "- *How does the safety and reliability rating compare to the initial driving agent?*"
   ]
  },
  {
   "cell_type": "markdown",
   "metadata": {},
   "source": [
    "**Answer:**\n",
    "- The only similary between both the observations is, both of them have a very low safety rating.\n",
    "There is a huge difference in the reliability rating, F- for the basic driving agent, A- for the default Q-learning agent.\n",
    "\n",
    "- The default epsilon-tolerance was set to 0.05. The initial epsilon was set to 1, which was decreased by 0.05 at each trial. Total number of training trials 1/0.05 = 20\n",
    "\n",
    "- Yes, In the parameters panel, we can see that the exploration factor is linearly decreasing from 1 to 0. Forming a straight line with a negative slope of  0.05.\n",
    "\n",
    "- As the number of training trails increased, we saw a significant decrease in the relative frequency of bad actions. At the same time we also saw a significant increase the average reward per action.\n",
    "\n",
    "- The default Q-learning agent got a reliability rating of A, which is a significant positive change from the basic driving agent. The basic driving agent had a reliability rating of F. The safety rating for the default Q-learning is low(D) but still better when we compare it to the basic driving agent, which had a safety rating of F.\n",
    "\n"
   ]
  },
  {
   "cell_type": "markdown",
   "metadata": {},
   "source": [
    "-----\n",
    "## Improve the Q-Learning Driving Agent\n",
    "The third step to creating an optimized Q-Learning agent is to perform the optimization! Now that the Q-Learning algorithm is implemented and the driving agent is successfully learning, it's necessary to tune settings and adjust learning paramaters so the driving agent learns both **safety** and **efficiency**. Typically this step will require a lot of trial and error, as some settings will invariably make the learning worse. One thing to keep in mind is the act of learning itself and the time that this takes: In theory, we could allow the agent to learn for an incredibly long amount of time; however, another goal of Q-Learning is to *transition from experimenting with unlearned behavior to acting on learned behavior*. For example, always allowing the agent to perform a random action during training (if $\\epsilon = 1$ and never decays) will certainly make it *learn*, but never let it *act*. When improving on your Q-Learning implementation, consider the implications it creates and whether it is logistically sensible to make a particular adjustment."
   ]
  },
  {
   "cell_type": "markdown",
   "metadata": {},
   "source": [
    "### Improved Q-Learning Simulation Results\n",
    "To obtain results from the initial Q-Learning implementation, you will need to adjust the following flags and setup:\n",
    "- `'enforce_deadline'` - Set this to `True` to force the driving agent to capture whether it reaches the destination in time.\n",
    "- `'update_delay'` - Set this to a small value (such as `0.01`) to reduce the time between steps in each trial.\n",
    "- `'log_metrics'` - Set this to `True` to log the simluation results as a `.csv` file and the Q-table as a `.txt` file in `/logs/`.\n",
    "- `'learning'` - Set this to `'True'` to tell the driving agent to use your Q-Learning implementation.\n",
    "- `'optimized'` - Set this to `'True'` to tell the driving agent you are performing an optimized version of the Q-Learning implementation.\n",
    "\n",
    "Additional flags that can be adjusted as part of optimizing the Q-Learning agent:\n",
    "- `'n_test'` - Set this to some positive number (previously 10) to perform that many testing trials.\n",
    "- `'alpha'` - Set this to a real number between 0 - 1 to adjust the learning rate of the Q-Learning algorithm.\n",
    "- `'epsilon'` - Set this to a real number between 0 - 1 to adjust the starting exploration factor of the Q-Learning algorithm.\n",
    "- `'tolerance'` - set this to some small value larger than 0 (default was 0.05) to set the epsilon threshold for testing.\n",
    "\n",
    "Furthermore, use a decaying function of your choice for $\\epsilon$ (the exploration factor). Note that whichever function you use, it **must decay to **`'tolerance'`** at a reasonable rate**. The Q-Learning agent will not begin testing until this occurs. Some example decaying functions (for $t$, the number of trials):\n",
    "\n",
    "$$ \\epsilon = a^t, \\textrm{for } 0 < a < 1 \\hspace{50px}\\epsilon = \\frac{1}{t^2}\\hspace{50px}\\epsilon = e^{-at}, \\textrm{for } 0 < a < 1 \\hspace{50px} \\epsilon = \\cos(at), \\textrm{for } 0 < a < 1$$\n",
    "You may also use a decaying function for $\\alpha$ (the learning rate) if you so choose, however this is typically less common. If you do so, be sure that it adheres to the inequality $0 \\leq \\alpha \\leq 1$.\n",
    "\n",
    "If you have difficulty getting your implementation to work, try setting the `'verbose'` flag to `True` to help debug. Flags that have been set here should be returned to their default setting when debugging. It is important that you understand what each flag does and how it affects the simulation! \n",
    "\n",
    "Once you have successfully completed the improved Q-Learning simulation, run the code cell below to visualize the results. Note that log files are overwritten when identical simulations are run, so be careful with what log file is being loaded!"
   ]
  },
  {
   "cell_type": "code",
   "execution_count": null,
   "metadata": {
    "collapsed": true
   },
   "outputs": [],
   "source": [
    "# Load the 'sim_improved-learning' file from the improved Q-Learning simulation\n",
    "vs.plot_trials('sim_improved-learning.csv')"
   ]
  },
  {
   "cell_type": "markdown",
   "metadata": {},
   "source": [
    "### Question 7\n",
    "Using the visualization above that was produced from your improved Q-Learning simulation, provide a final analysis and make observations about the improved driving agent like in **Question 6**. Questions you should answer:  \n",
    "- *What decaying function was used for epsilon (the exploration factor)?*\n",
    "- *Approximately how many training trials were needed for your agent before begining testing?*\n",
    "- *What epsilon-tolerance and alpha (learning rate) did you use? Why did you use them?*\n",
    "- *How much improvement was made with this Q-Learner when compared to the default Q-Learner from the previous section?*\n",
    "- *Would you say that the Q-Learner results show that your driving agent successfully learned an appropriate policy?*\n",
    "- *Are you satisfied with the safety and reliability ratings of the *Smartcab*?*"
   ]
  },
  {
   "cell_type": "markdown",
   "metadata": {},
   "source": [
    "**Answer:**\n",
    "- *The decaying function that was used - e^(-0.02t)*\n",
    "- *It needed around 200 trials approximately before starting with testing.*\n",
    "- *I used Epsilon-tolerance of 0.015. I used aplha tolerance of 0.2. The initial Alpha(learning rate) I choose was 0.6, with decay of  0.02 at each step until it reached 0.2. I came to these values based on multiple iterations of trials. Basicallly, I wanted my agent to explore the world as much as possible in its initial trials. I choose exponential decay with high espilon to allow agent to explore the world, and the espilon then decreased exponentially to minimize any random decision and confine the agent to stick to the optimal path. I choose initial value of alpha as 0.6. Cause initially the Q table was empty, So for the initial learning I am assigning  max weight, which slowly reduces by 0.02 at each trial. WIth each trial the Q table converges and becomes stable, therefore I am assigning less values to the later learnings.*\n",
    "\n",
    "- *I observed a significant amount of improvement.*\n",
    "    - *The relative-frequency of bad actions dropped significantly, reaching almost zero.*\n",
    "    - *Average reward per action finally turned up to be a positive value.*\n",
    "    - *A significant increase in the reliability and safety rating.*\n",
    "- *Based on the Q-learner result, I am pretty sure that the driving agent have successfully learned an appropriate policy.*\n",
    "- *Yes, I am satisfied. The identified policy have reliability and safety rating of A+.*"
   ]
  },
  {
   "cell_type": "markdown",
   "metadata": {},
   "source": [
    "### Define an Optimal Policy\n",
    "\n",
    "Sometimes, the answer to the important question *\"what am I trying to get my agent to learn?\"* only has a theoretical answer and cannot be concretely described. Here, however, you can concretely define what it is the agent is trying to learn, and that is the U.S. right-of-way traffic laws. Since these laws are known information, you can further define, for each state the *Smartcab* is occupying, the optimal action for the driving agent based on these laws. In that case, we call the set of optimal state-action pairs an **optimal policy**. Hence, unlike some theoretical answers, it is clear whether the agent is acting \"incorrectly\" not only by the reward (penalty) it receives, but also by pure observation. If the agent drives through a red light, we both see it receive a negative reward but also know that it is not the correct behavior. This can be used to your advantage for verifying whether the **policy** your driving agent has learned is the correct one, or if it is a **suboptimal policy**."
   ]
  },
  {
   "cell_type": "markdown",
   "metadata": {},
   "source": [
    "### Question 8\n",
    "\n",
    "1. Please summarize what the optimal policy is for the smartcab in the given environment. What would be the best set of instructions possible given what we know about the environment? \n",
    "   _You can explain with words or a table, but you should thoroughly discuss the optimal policy._\n",
    "\n",
    "2. Next, investigate the `'sim_improved-learning.txt'` text file to see the results of your improved Q-Learning algorithm. _For each state that has been recorded from the simulation, is the **policy** (the action with the highest value) correct for the given state? Are there any states where the policy is different than what would be expected from an optimal policy?_ \n",
    "\n",
    "3. Provide a few examples from your recorded Q-table which demonstrate that your smartcab learned the optimal policy. Explain why these entries demonstrate the optimal policy.\n",
    "\n",
    "4. Try to find at least one entry where the smartcab did _not_ learn the optimal policy.  Discuss why your cab may have not learned the correct policy for the given state.\n",
    "\n",
    "Be sure to document your `state` dictionary below, it should be easy for the reader to understand what each state represents."
   ]
  },
  {
   "cell_type": "markdown",
   "metadata": {},
   "source": [
    "**Answer:** \n",
    "\n",
    "As we agent is trying to learn the US Right of ways rules.\n",
    "The correct optimal policy would be:\n",
    "\n",
    "- *if waypoint is forward*\n",
    "\n",
    "        if waypoint == FORWARD:\n",
    "            if Light == GREEN:\n",
    "                // if Oncoming == FORWARD || Oncoming == LEFT:\n",
    "                        # Agent should move forward\n",
    "                    else:\n",
    "                        # If oncming is towards agent's right\n",
    "                        #Agent should wait\n",
    "                \n",
    "        else:\n",
    "            //Agent shuld wait as the light is red\n",
    "\n",
    "- *if waypoint is Left*\n",
    "\n",
    "        if waypoint == LEFT:\n",
    "            if Light == GREEN:\n",
    "                if Oncoming == FORWARD || Oncoming == LEFT:\n",
    "                    # Agent shuld yeild to avoid any major/minor collision\n",
    "                    # agent should wait.\n",
    "                else:\n",
    "                    #Oncoming is going RIGHT\n",
    "                    # agent can move LEFT\n",
    "            else:\n",
    "                # Agent should stay as the light is red\n",
    "\n",
    "- *if waypoint is right*\n",
    "\n",
    "        if waypoint == RIGHT:\n",
    "            if Light == GREEN:\n",
    "                if Oncoming == FORWARD || Oncoming == LEFT:\n",
    "                    #Agent should go right\n",
    "                else:\n",
    "                    #Agent should wait\n",
    "            else:\n",
    "                if Oncoming != RIGHT:\n",
    "                    # Agent should move Right\n",
    "                else:\n",
    "                    # As the oncoming traffic is towards right.\n",
    "                    # agent should wait.\n",
    "             \n",
    "        \n",
    "Screen Shot 2018-01-26 at 3.24.38 PM![image.png](attachment:image.png)"
   ]
  },
  {
   "cell_type": "markdown",
   "metadata": {},
   "source": [
    "-----\n",
    "### Optional: Future Rewards - Discount Factor, `'gamma'`\n",
    "Curiously, as part of the Q-Learning algorithm, you were asked to **not** use the discount factor, `'gamma'` in the implementation. Including future rewards in the algorithm is used to aid in propagating positive rewards backwards from a future state to the current state. Essentially, if the driving agent is given the option to make several actions to arrive at different states, including future rewards will bias the agent towards states that could provide even more rewards. An example of this would be the driving agent moving towards a goal: With all actions and rewards equal, moving towards the goal would theoretically yield better rewards if there is an additional reward for reaching the goal. However, even though in this project, the driving agent is trying to reach a destination in the allotted time, including future rewards will not benefit the agent. In fact, if the agent were given many trials to learn, it could negatively affect Q-values!"
   ]
  },
  {
   "cell_type": "markdown",
   "metadata": {},
   "source": [
    "### Optional Question 9\n",
    "*There are two characteristics about the project that invalidate the use of future rewards in the Q-Learning algorithm. One characteristic has to do with the *Smartcab* itself, and the other has to do with the environment. Can you figure out what they are and why future rewards won't work for this project?*"
   ]
  },
  {
   "cell_type": "markdown",
   "metadata": {},
   "source": [
    "**Answer:**\n",
    "\n",
    "- *Smart cab*\n",
    "\n",
    "    The use of future reward won't really help becuase,the environment is consistently changing and their is no way for the agent to get a reliable information about the future states. Each state of the agent is independent of it's previous and future state. So even if you make an assumption, with every action the agent makes the world state changes. In such a case your information about the future state become redundant.\n",
    "    \n",
    "    \n",
    "- *Environment*\n",
    "\n",
    "    The Environment is stochastic in nature. Each state of the environment is independent of the agent's action. \n",
    "    From the environment waypoint is the only feature that might depend based on the agents action. If there was a way for change in the environments state with agents action, then we could have a possibility of furure rewards. But since environment as a whole is completely intependent of the agent's actions, for future rewards to affect our current action we must take into account the furure state of the environment which again should change in consistence to agent's actions."
   ]
  },
  {
   "cell_type": "markdown",
   "metadata": {},
   "source": [
    "> **Note**: Once you have completed all of the code implementations and successfully answered each question above, you may finalize your work by exporting the iPython Notebook as an HTML document. You can do this by using the menu above and navigating to  \n",
    "**File -> Download as -> HTML (.html)**. Include the finished document along with this notebook as your submission."
   ]
  }
 ],
 "metadata": {
  "kernelspec": {
   "display_name": "Python 2",
   "language": "python",
   "name": "python2"
  },
  "language_info": {
   "codemirror_mode": {
    "name": "ipython",
    "version": 2
   },
   "file_extension": ".py",
   "mimetype": "text/x-python",
   "name": "python",
   "nbconvert_exporter": "python",
   "pygments_lexer": "ipython2",
   "version": "2.7.14"
  }
 },
 "nbformat": 4,
 "nbformat_minor": 1
}
